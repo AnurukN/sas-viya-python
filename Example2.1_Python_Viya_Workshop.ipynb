{
 "cells": [
  {
   "cell_type": "markdown",
   "metadata": {},
   "source": [
    "![title](https://www.kolonbenit.com/common/images/logo.gif)\n",
    "Welcome to KOLON BENIT Hands-on Course of SAS Viya Open Source"
   ]
  },
  {
   "cell_type": "markdown",
   "metadata": {},
   "source": [
    "\n",
    "# Kolon Benit BigData Analytics Team\n",
    "---------------------------------\n",
    "## SAS Viya, Python Programming, 2019.08.02\n",
    "\n",
    "### Example 2.1 - Hands-On Workshop: Python and CAS Integration on SAS Viya\n",
    "---------------------------------\n",
    "Austin Rho (Shin Seok)\n",
    "- contact : ssrho@kolon.com, injoyer@yonsei.ac.kr\n",
    "---------------------------------"
   ]
  },
  {
   "cell_type": "markdown",
   "metadata": {},
   "source": [
    "## Exercise 1 - A Gentle Introduction to Pandas\n",
    "\n",
    "## Reading Data into DataFrames\n",
    "\n",
    "Pandas is a Python package providing flexible and expressive data structures designed to make working with “relational” or “labeled” data straightforward. It is one of many ways for doing practical, real world data analysis.\n",
    "\n",
    "The primary data structure in the Pandas package is the DataFrame. A DataFrame is a table-like object that contains named columns of data. Pandas provides readers for many different file types including CSV, Excel, SAS, HTML, etc.\n",
    "\n",
    "Since CSV is such a common format, let's look at reading a CSV file into a Pandas DataFrame.\n",
    "\n",
    "First, we need to import the Pandas package. A very common convention is to import Pandas using a shortcut named 'pd'. This is done with the following line of code."
   ]
  },
  {
   "cell_type": "code",
   "execution_count": 5,
   "metadata": {},
   "outputs": [
    {
     "ename": "AttributeError",
     "evalue": "module 'pandas' has no attribute 'compat'",
     "output_type": "error",
     "traceback": [
      "\u001b[1;31m---------------------------------------------------------------------------\u001b[0m",
      "\u001b[1;31mAttributeError\u001b[0m                            Traceback (most recent call last)",
      "\u001b[1;32m<ipython-input-5-7dd3504c366f>\u001b[0m in \u001b[0;36m<module>\u001b[1;34m\u001b[0m\n\u001b[1;32m----> 1\u001b[1;33m \u001b[1;32mimport\u001b[0m \u001b[0mpandas\u001b[0m \u001b[1;32mas\u001b[0m \u001b[0mpd\u001b[0m\u001b[1;33m\u001b[0m\u001b[1;33m\u001b[0m\u001b[0m\n\u001b[0m",
      "\u001b[1;32md:\\python\\tools\\python37\\lib\\site-packages\\pandas\\__init__.py\u001b[0m in \u001b[0;36m<module>\u001b[1;34m\u001b[0m\n\u001b[0;32m    194\u001b[0m \u001b[1;31m# GH 27101\u001b[0m\u001b[1;33m\u001b[0m\u001b[1;33m\u001b[0m\u001b[1;33m\u001b[0m\u001b[0m\n\u001b[0;32m    195\u001b[0m \u001b[1;31m# TODO: remove Panel compat in 1.0\u001b[0m\u001b[1;33m\u001b[0m\u001b[1;33m\u001b[0m\u001b[1;33m\u001b[0m\u001b[0m\n\u001b[1;32m--> 196\u001b[1;33m \u001b[1;32mif\u001b[0m \u001b[0mpandas\u001b[0m\u001b[1;33m.\u001b[0m\u001b[0mcompat\u001b[0m\u001b[1;33m.\u001b[0m\u001b[0mPY37\u001b[0m\u001b[1;33m:\u001b[0m\u001b[1;33m\u001b[0m\u001b[1;33m\u001b[0m\u001b[0m\n\u001b[0m\u001b[0;32m    197\u001b[0m \u001b[1;33m\u001b[0m\u001b[0m\n\u001b[0;32m    198\u001b[0m     \u001b[1;32mdef\u001b[0m \u001b[0m__getattr__\u001b[0m\u001b[1;33m(\u001b[0m\u001b[0mname\u001b[0m\u001b[1;33m)\u001b[0m\u001b[1;33m:\u001b[0m\u001b[1;33m\u001b[0m\u001b[1;33m\u001b[0m\u001b[0m\n",
      "\u001b[1;31mAttributeError\u001b[0m: module 'pandas' has no attribute 'compat'"
     ]
    }
   ],
   "source": [
    "import pandas as pd"
   ]
  },
  {
   "cell_type": "markdown",
   "metadata": {},
   "source": [
    "The function that reads CSV files into DataFrames is called read_csv. In the simplest form, you supply it with a filename or URL. The cars data set is stored as a CSV in github. We'll reference the URL, and use the head() method to print the first several observations."
   ]
  },
  {
   "cell_type": "code",
   "execution_count": null,
   "metadata": {},
   "outputs": [],
   "source": [
    "df=pd.read_csv('https://sas-viya-python.s3.ap-northeast-2.amazonaws.com/'\n",
    "               'cars.csv')\n",
    "\n",
    "df.head(10)"
   ]
  },
  {
   "cell_type": "markdown",
   "metadata": {},
   "source": [
    "## Displaying Information about DataFrames\n",
    "The data types of the column names can be displayed using the dtypes property."
   ]
  },
  {
   "cell_type": "code",
   "execution_count": null,
   "metadata": {},
   "outputs": [],
   "source": [
    "df.dtypes"
   ]
  },
  {
   "cell_type": "markdown",
   "metadata": {},
   "source": [
    "## Simple Statistics\n",
    "One way to calculate simple statistics is to calculate multiple simple statistics for specific columns."
   ]
  },
  {
   "cell_type": "code",
   "execution_count": null,
   "metadata": {},
   "outputs": [],
   "source": [
    "df[['MSRP','Horsepower']].describe()"
   ]
  },
  {
   "cell_type": "markdown",
   "metadata": {},
   "source": [
    "Another way is to calculate one simple statistic across all columns in a DataFrame..."
   ]
  },
  {
   "cell_type": "code",
   "execution_count": null,
   "metadata": {},
   "outputs": [],
   "source": [
    "df.mean()"
   ]
  },
  {
   "cell_type": "markdown",
   "metadata": {},
   "source": [
    "## Subsetting DataFrames\n",
    "You can do various types of data manipulation on DataFrames. One example is to create a new DataFrame containing only selected columns of an existing DataFrame."
   ]
  },
  {
   "cell_type": "code",
   "execution_count": null,
   "metadata": {},
   "outputs": [],
   "source": [
    "subdf=df[['Make','Model','Horsepower']]\n",
    "\n",
    "subdf.head(15)"
   ]
  },
  {
   "cell_type": "markdown",
   "metadata": {},
   "source": [
    "## Indexing DataFrames\n",
    "A useful way of indexing Pandas DataFrames is using row labels. We can set a column as a row index using the set_index method. Then we can use those labels for easy data selection."
   ]
  },
  {
   "cell_type": "code",
   "execution_count": null,
   "metadata": {},
   "outputs": [],
   "source": [
    "df=df.set_index('Model')\n",
    "\n",
    "df.head()"
   ]
  },
  {
   "cell_type": "markdown",
   "metadata": {},
   "source": [
    "Suppose I want a new DataFrame containing only models with an MSRP greater than 80,000."
   ]
  },
  {
   "cell_type": "code",
   "execution_count": null,
   "metadata": {},
   "outputs": [],
   "source": [
    "exp=df['MSRP'] > 80000\n",
    "\n",
    "exp.head(15)"
   ]
  },
  {
   "cell_type": "code",
   "execution_count": null,
   "metadata": {},
   "outputs": [],
   "source": [
    "df80=df[exp]\n",
    "\n",
    "df80.head()"
   ]
  },
  {
   "cell_type": "markdown",
   "metadata": {},
   "source": [
    "## Plotting\n",
    "There are several packages for creating plots in Python. One of those packages is matplotlib. Using matplotlib, we can create a scatter plot of MSRP values from the DataFrame we created."
   ]
  },
  {
   "cell_type": "code",
   "execution_count": null,
   "metadata": {
    "collapsed": true
   },
   "outputs": [],
   "source": [
    "%matplotlib inline"
   ]
  },
  {
   "cell_type": "code",
   "execution_count": null,
   "metadata": {},
   "outputs": [],
   "source": [
    "df.plot(kind='scatter', x='MSRP', y='Horsepower', figsize=(12,6))"
   ]
  },
  {
   "cell_type": "markdown",
   "metadata": {},
   "source": [
    "# Exercise 2 - Connecting to CAS\n",
    "SWAT (SAS Wrapper for Analytics Transfer) is the Python module used to interface with SAS' Cloud Analytics Services (CAS). This module includes classes and functions to call actions on the server, and process the results on the client. This workshop will cover the basics of connecting to CAS from Python, calling CAS actions, interacting with CAS tables, and using the results of the CAS actions on the client.\n",
    "\n",
    "The SWAT module in Python is merely a CAS client, it does not start the server. So the first thing you need to do is get access to a running CAS server. To connect to the server, we need the hostname and port number that the server is running at as well as a way to authenticate with the server.\n",
    "\n",
    "There are various ways of authenticating with CAS, so you will need to check with your system administrator as to the proper method to use. The simplest form of authentication is username and password.\n",
    "\n",
    "To connect to CAS, we will use the CAS class in the SWAT package. The most basic form of creating a connection is to supply the CAS host, port, username, and password to the CAS class."
   ]
  },
  {
   "cell_type": "code",
   "execution_count": null,
   "metadata": {
    "collapsed": true
   },
   "outputs": [],
   "source": [
    "import swat \n",
    "\n",
    "conn = swat.CAS(\"server\", 8777, \"student\", \"Metadata0\", protocol=\"http\")"
   ]
  },
  {
   "cell_type": "markdown",
   "metadata": {},
   "source": [
    "### Tip: The object \"conn\" created above is referred to as a CAS Connection object.\n",
    "The session name is simply a human-readable tag given to a session so it is easier to identify in actions that display session information. The session ID is a unique identifier given to each session. The session ID can be used to reconnect to a session, or connect from another client."
   ]
  },
  {
   "cell_type": "code",
   "execution_count": null,
   "metadata": {},
   "outputs": [],
   "source": [
    "conn"
   ]
  },
  {
   "cell_type": "markdown",
   "metadata": {},
   "source": [
    "# Exercise 3 - Running CAS Actions\n",
    "Now that a CAS connection has been established, we can try running some CAS actions.\n",
    "\n",
    "CAS actions are called on CAS objects just like Python methods. In the example below, we will use the serverstatus action to display some basic status information about the CAS server such as platform and release information, the number of nodes, and information about each node in the grid. That information will be stored in an object called out.\n",
    "\n",
    "The result of every CAS action is a CASResults object. CASResults objects are simply a subclass of Python's ordered dictionary, so anything that you can do with Python dictionaries can also be done with CASResults objects."
   ]
  },
  {
   "cell_type": "code",
   "execution_count": null,
   "metadata": {},
   "outputs": [],
   "source": [
    "out = conn.serverstatus()\n",
    "\n",
    "out"
   ]
  },
  {
   "cell_type": "markdown",
   "metadata": {},
   "source": [
    "## Using CAS' help Function\n",
    "There are many actions that are available in all CAS installations, and various others may be available depending on which products have been licensed.\n",
    "To display all available actions, you use the help action."
   ]
  },
  {
   "cell_type": "code",
   "execution_count": null,
   "metadata": {},
   "outputs": [],
   "source": [
    "conn.help()"
   ]
  },
  {
   "cell_type": "markdown",
   "metadata": {},
   "source": [
    "You can ask for help on specific actions and action sets."
   ]
  },
  {
   "cell_type": "code",
   "execution_count": null,
   "metadata": {},
   "outputs": [],
   "source": [
    "conn.help(actionset='simple')"
   ]
  },
  {
   "cell_type": "code",
   "execution_count": null,
   "metadata": {},
   "outputs": [],
   "source": [
    "conn.help(action='correlation')"
   ]
  },
  {
   "cell_type": "markdown",
   "metadata": {},
   "source": [
    "# Exercise 4 - Loading Data into CAS\n",
    "This example loads client-side data into CAS. The most \"Pythonic\" way of getting data into CAS is to use the Pandas-style data readers on the CAS connection object. When we refer to client-side data, we mean data that is located on the machine that Python is running on. Server-side data is data that is on the machine that CAS is running on. These may or may not be the same machine.\n",
    "\n",
    "We can use Pandas' read_csv function to load data a CSV file into CAS.\n",
    "\n",
    "Instead of returning a DataFrame, SWAT returns a CASTable object. As we'll see, you can treat a CASTable object much like a DataFrame from a programming standpoint."
   ]
  },
  {
   "cell_type": "code",
   "execution_count": null,
   "metadata": {},
   "outputs": [],
   "source": [
    "tbl = conn.read_csv('c:/users/student/Documents/cars.csv',\"cars_cas\")\n",
    "\n",
    "tbl"
   ]
  },
  {
   "cell_type": "markdown",
   "metadata": {},
   "source": [
    "## CASTable object vs. DataFrame\n",
    "A CASTable object is a Python object interface to a CAS table. You can call CAS actions on it just like a CAS connection object. It also supports much of the Pandas DataFrame API. This means that you can treat it like a DataFrame, but all of the operations will be performed on the CAS server using CAS actions.\n",
    "\n",
    "Below is an example of requesting column information from a CASTable object."
   ]
  },
  {
   "cell_type": "code",
   "execution_count": null,
   "metadata": {},
   "outputs": [],
   "source": [
    "conn.columninfo(table=tbl)"
   ]
  },
  {
   "cell_type": "markdown",
   "metadata": {},
   "source": [
    "Below is another example of printing the first ten observations from the CASTable object tbl"
   ]
  },
  {
   "cell_type": "code",
   "execution_count": null,
   "metadata": {},
   "outputs": [],
   "source": [
    "conn.fetch(table=tbl, to=10)"
   ]
  },
  {
   "cell_type": "markdown",
   "metadata": {},
   "source": [
    "## Subsetting, Indexing, Plotting, and Calculating Simple Statistics for CASTable Objects\n",
    "From a syntax perspective, we are treating the CASTable object the same as the DataFrame from earlier."
   ]
  },
  {
   "cell_type": "code",
   "execution_count": null,
   "metadata": {},
   "outputs": [],
   "source": [
    "expCAS=tbl['MSRP'] > 80000\n",
    "\n",
    "expCAS.head()"
   ]
  },
  {
   "cell_type": "markdown",
   "metadata": {},
   "source": [
    "Creating a new CASTable object containing only Models with an MSRP greater than $80,000."
   ]
  },
  {
   "cell_type": "code",
   "execution_count": null,
   "metadata": {},
   "outputs": [],
   "source": [
    "tbl80=tbl[expCAS]\n",
    "\n",
    "tbl80.head()"
   ]
  },
  {
   "cell_type": "markdown",
   "metadata": {},
   "source": [
    "Calculating simple statistics for the CASTable object."
   ]
  },
  {
   "cell_type": "code",
   "execution_count": null,
   "metadata": {},
   "outputs": [],
   "source": [
    "tbl[['MSRP','Horsepower']].describe()"
   ]
  },
  {
   "cell_type": "code",
   "execution_count": null,
   "metadata": {},
   "outputs": [],
   "source": [
    "tbl.mean()"
   ]
  },
  {
   "cell_type": "markdown",
   "metadata": {},
   "source": [
    "# Exercise 5 - Loading and Using Action Sets\n",
    "The syntax below loads one of the many Action sets identified above. You can load as many or as few Action sets as you wish using the CASConnection object and the loadactionset() function."
   ]
  },
  {
   "cell_type": "code",
   "execution_count": null,
   "metadata": {},
   "outputs": [],
   "source": [
    "conn.loadactionset('simple')"
   ]
  },
  {
   "cell_type": "markdown",
   "metadata": {},
   "source": [
    "Now that the 'simple' Action set has been loaded, we can use the 'correlation' action within the 'simple' Action set to calculate a Pearson correlation matrix."
   ]
  },
  {
   "cell_type": "code",
   "execution_count": null,
   "metadata": {},
   "outputs": [],
   "source": [
    "tbl.correlation(simple=False)"
   ]
  },
  {
   "cell_type": "markdown",
   "metadata": {},
   "source": [
    "### Tip: Managing Your CAS Tables\n",
    "How many CAS Tables have been created?"
   ]
  },
  {
   "cell_type": "code",
   "execution_count": null,
   "metadata": {},
   "outputs": [],
   "source": [
    "conn.tableinfo()"
   ]
  },
  {
   "cell_type": "markdown",
   "metadata": {},
   "source": [
    "How do you delete a CAS table?"
   ]
  },
  {
   "cell_type": "code",
   "execution_count": null,
   "metadata": {
    "collapsed": true
   },
   "outputs": [],
   "source": [
    "# conn.dropTable('<INSERT TABLE HERE>')"
   ]
  },
  {
   "cell_type": "markdown",
   "metadata": {},
   "source": [
    "## Running DATA Step Code\n",
    "In this section, we will show how to use DATA Step code to communicate with the CAS Server.\n",
    "\n",
    "The first step requires loading the dataStep Action set."
   ]
  },
  {
   "cell_type": "code",
   "execution_count": null,
   "metadata": {},
   "outputs": [],
   "source": [
    "conn.loadactionset('dataStep')"
   ]
  },
  {
   "cell_type": "markdown",
   "metadata": {},
   "source": [
    "## Create a new CAS Table using DATA Step Functionality\n",
    "Next, using the 'runcode' action within the 'dataStep' action set, a new table called CARS_TEMP is written to CAS from the original table read in through the CSV file."
   ]
  },
  {
   "cell_type": "code",
   "execution_count": null,
   "metadata": {},
   "outputs": [],
   "source": [
    "out= conn.datastep.runcode(code='''\n",
    "        data cars_temp(caslib='casuser');\n",
    "          set cars_cas(caslib='casuser');\n",
    "          if MSRP > 80000 then Category='Very Expensive'; \n",
    "          else Category='Less Expensive';\n",
    "          keep Model MSRP Category EngineSize;\n",
    "        run;\n",
    "   ''')\n",
    "\n",
    "out"
   ]
  },
  {
   "cell_type": "markdown",
   "metadata": {},
   "source": [
    "Creating an object called 'new' to reference the CARS_TEMP table on the CAS server."
   ]
  },
  {
   "cell_type": "code",
   "execution_count": null,
   "metadata": {},
   "outputs": [],
   "source": [
    "new = out.OutputCasTables.loc[0, 'casTable']\n",
    "\n",
    "new.head()"
   ]
  },
  {
   "cell_type": "markdown",
   "metadata": {},
   "source": [
    "Now the CAS server has two tables loaded onto it. This can be verified using the tableinfo() function and the CASConnection object."
   ]
  },
  {
   "cell_type": "code",
   "execution_count": null,
   "metadata": {},
   "outputs": [],
   "source": [
    "conn.tableinfo()"
   ]
  },
  {
   "cell_type": "markdown",
   "metadata": {},
   "source": [
    "## Running SQL Code\n",
    "SQL stands for Structured Query Language, and is commonly used when working with relational database management systems. In this section, we will illustrate how to use SQL to communicate to the CAS server.\n",
    "\n",
    "The first step is to load the FedSQL actionset."
   ]
  },
  {
   "cell_type": "code",
   "execution_count": null,
   "metadata": {},
   "outputs": [],
   "source": [
    "conn.loadactionset('fedsql')"
   ]
  },
  {
   "cell_type": "markdown",
   "metadata": {},
   "source": [
    "### Tip: ExecDirect is a CAS action in the FedSQL action set to execute SQL statements in the CAS environment."
   ]
  },
  {
   "cell_type": "code",
   "execution_count": null,
   "metadata": {},
   "outputs": [],
   "source": [
    "conn.fedsql.execDirect(query='''\n",
    "    select model, \n",
    "           msrp,\n",
    "           case when msrp > 80000 then 'Very Expensive' else 'Less Expensive' end as CategorySQL\n",
    "    from cars_temp\n",
    "    where EngineSize > 5\n",
    "    order by msrp desc\n",
    "''')"
   ]
  },
  {
   "cell_type": "markdown",
   "metadata": {},
   "source": [
    "## Create a new CAS Table Using SQL\n",
    "Use the CREATE TABLE syntax in SQL."
   ]
  },
  {
   "cell_type": "code",
   "execution_count": null,
   "metadata": {},
   "outputs": [],
   "source": [
    "conn.fedsql.execDirect(query='''\n",
    "    create table cars_temp_SQL as \n",
    "    select *\n",
    "    from cars_temp\n",
    "    where EngineSize>5\n",
    "    ''')"
   ]
  },
  {
   "cell_type": "code",
   "execution_count": null,
   "metadata": {},
   "outputs": [],
   "source": [
    "conn.tableinfo()"
   ]
  },
  {
   "cell_type": "markdown",
   "metadata": {},
   "source": [
    "# Exercise 6 - Building Analytical Models\n",
    "## Regression Model\n",
    "The first step is to load a modeling action set before using it. Let's load action sets for regression and decision tree models."
   ]
  },
  {
   "cell_type": "code",
   "execution_count": null,
   "metadata": {},
   "outputs": [],
   "source": [
    "conn.loadactionset('regression')"
   ]
  },
  {
   "cell_type": "code",
   "execution_count": null,
   "metadata": {},
   "outputs": [],
   "source": [
    "conn.help(actionset='regression')"
   ]
  },
  {
   "cell_type": "code",
   "execution_count": null,
   "metadata": {},
   "outputs": [],
   "source": [
    "glm_out=tbl.glm(\n",
    "    target = 'MSRP',\n",
    "    nominals = ['Type', 'Origin'],\n",
    "    inputs = ['Type', 'Origin', 'MPG_City', 'Length', 'Weight']\n",
    ")\n",
    "\n",
    "glm_out"
   ]
  },
  {
   "cell_type": "markdown",
   "metadata": {},
   "source": [
    "## ODS-like Output Style"
   ]
  },
  {
   "cell_type": "code",
   "execution_count": null,
   "metadata": {},
   "outputs": [],
   "source": [
    "from swat.render import render_html\n",
    "render_html(glm_out)"
   ]
  },
  {
   "cell_type": "markdown",
   "metadata": {},
   "source": [
    "## Random Forest from the decisiontree Action Set.\n",
    "\n",
    "The decisiontree action set is another popular analytic action set. It provides three distinct tree-based\n",
    "models: decision tree, random forests, and gradient boosting. Unlike the regression action set, the\n",
    "decisiontree action set splits a model into different actions, each represents a typical step of a machine\n",
    "learning process such as training, scoring and score code generation (as SAS DATA step score code)."
   ]
  },
  {
   "cell_type": "code",
   "execution_count": null,
   "metadata": {},
   "outputs": [],
   "source": [
    "conn.loadactionset('decisiontree')"
   ]
  },
  {
   "cell_type": "markdown",
   "metadata": {},
   "source": [
    "You can list all of the available actions (for decision trees, random forests, and gradient boosting tree models)"
   ]
  },
  {
   "cell_type": "code",
   "execution_count": null,
   "metadata": {
    "collapsed": true
   },
   "outputs": [],
   "source": [
    "conn.decisiontree?"
   ]
  },
  {
   "cell_type": "markdown",
   "metadata": {},
   "source": [
    "The models in the decisiontree action set support either continuous, binary or multilevel response\n",
    "variable. Let us fit a random forest model to predict whether a vehicle is from Asia, Europe, or United\n",
    "States.\n",
    "\n",
    "The forestModel1 object is the results table.  "
   ]
  },
  {
   "cell_type": "code",
   "execution_count": null,
   "metadata": {
    "scrolled": true
   },
   "outputs": [],
   "source": [
    "forest1 = tbl.Foresttrain()\n",
    "forest1.target = 'Origin'\n",
    "forest1.inputs = ['MPG_City','MPG_Highway','Type','Weight','Length','Cylinders']\n",
    "forest1.nominals = ['Type','Cylinders']\n",
    "forest1.casout = conn.CASTable('forestModel1', replace=True)\n",
    "forest1()"
   ]
  },
  {
   "cell_type": "markdown",
   "metadata": {},
   "source": [
    "Random forest models are commonly used in variable selection. Selection is usually determined by the\n",
    "variable importance of the predictors in training the forest model. In the foresttrain action, this\n",
    "importance measure is defined as the total Gini reduction from all of the splits that use this predictor. You\n",
    "can request variable importance using the varimp option and generate the variable importance plot using the\n",
    "Matplotlib package."
   ]
  },
  {
   "cell_type": "code",
   "execution_count": null,
   "metadata": {},
   "outputs": [],
   "source": [
    "forest1.varimp = True\n",
    "result = forest1()\n",
    "dfVarImp = result['DTreeVarImpInfo']\n",
    "import matplotlib.pyplot as plt\n",
    "import numpy as np\n",
    "y_pos = np.arange(len(dfVarImp['Importance']))\n",
    "plt.barh(y_pos, dfVarImp['Importance'], align='center')\n",
    "plt.yticks(y_pos, dfVarImp['Variable'])\n",
    "plt.xlabel('Variable Importance')\n",
    "plt.show()"
   ]
  },
  {
   "cell_type": "markdown",
   "metadata": {},
   "source": [
    "To score the training data or the holdout data using the forest model, you can use the forestscore action."
   ]
  },
  {
   "cell_type": "code",
   "execution_count": null,
   "metadata": {},
   "outputs": [],
   "source": [
    "scored_data = conn.CASTable('scored_output', replace=True)\n",
    "tbl.forestscore(modeltable=conn.CASTable('forestModel1'),casout=scored_data)\n",
    "scored_data.head()"
   ]
  },
  {
   "cell_type": "code",
   "execution_count": null,
   "metadata": {},
   "outputs": [],
   "source": []
  }
 ],
 "metadata": {
  "anaconda-cloud": {},
  "kernelspec": {
   "display_name": "Python 3",
   "language": "python",
   "name": "python3"
  },
  "language_info": {
   "codemirror_mode": {
    "name": "ipython",
    "version": 3
   },
   "file_extension": ".py",
   "mimetype": "text/x-python",
   "name": "python",
   "nbconvert_exporter": "python",
   "pygments_lexer": "ipython3",
   "version": "3.7.3"
  }
 },
 "nbformat": 4,
 "nbformat_minor": 1
}
